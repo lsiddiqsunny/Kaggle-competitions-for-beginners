{
 "cells": [
  {
   "cell_type": "markdown",
   "metadata": {
    "colab_type": "text",
    "id": "lmGx0amfBRES"
   },
   "source": [
    "The sinking of the Titanic is one of the most infamous shipwrecks in history.\n",
    "\n",
    "On April 15, 1912, during her maiden voyage, the widely considered “unsinkable” RMS Titanic sank after colliding with an iceberg. Unfortunately, there weren’t enough lifeboats for everyone onboard, resulting in the death of 1502 out of 2224 passengers and crew.\n",
    "\n",
    "While there was some element of luck involved in surviving, it seems some groups of people were more likely to survive than others.\n",
    "\n",
    "In this challenge, we ask you to build a predictive model that answers the question: “what sorts of people were more likely to survive?” using passenger data (ie name, age, gender, socio-economic class, etc)."
   ]
  },
  {
   "cell_type": "code",
   "execution_count": 1,
   "metadata": {
    "colab": {},
    "colab_type": "code",
    "id": "_NZ4tGBCA1tm"
   },
   "outputs": [],
   "source": [
    "import numpy as np\n",
    "import pandas as pd\n",
    "from sklearn.impute import SimpleImputer\n",
    "from sklearn.preprocessing import Binarizer\n",
    "from sklearn.preprocessing import OrdinalEncoder\n",
    "import time\n",
    "import math\n",
    "from sklearn.preprocessing import KBinsDiscretizer\n",
    "import os"
   ]
  },
  {
   "cell_type": "markdown",
   "metadata": {
    "colab_type": "text",
    "id": "CzcNfTQgCNaD"
   },
   "source": [
    "Processing train data"
   ]
  },
  {
   "cell_type": "code",
   "execution_count": 35,
   "metadata": {
    "colab": {},
    "colab_type": "code",
    "id": "SwhfWDo2CRxw"
   },
   "outputs": [],
   "source": [
    "def loadTrainData(filename):\n",
    "    dataframe = pd.read_csv(filename, delimiter=\",\")\n",
    "    label = 'DEFCON_Level'\n",
    "    dataframe = dataframe.drop(['ID'], axis=1)\n",
    "    attributes = list(dataframe.columns.values)\n",
    "    attributes.remove(label)\n",
    "\n",
    "    return dataframe,attributes,label\n"
   ]
  },
  {
   "cell_type": "markdown",
   "metadata": {
    "colab_type": "text",
    "id": "s9pQHKtqwv0M"
   },
   "source": [
    "processing test data"
   ]
  },
  {
   "cell_type": "code",
   "execution_count": 37,
   "metadata": {
    "colab": {},
    "colab_type": "code",
    "id": "yU-5_-SswyJr"
   },
   "outputs": [],
   "source": [
    "def loadTestData(filename):\n",
    "    dataframe = pd.read_csv(filename, delimiter=\",\")\n",
    "\n",
    "\n",
    "    return dataframe\n"
   ]
  },
  {
   "cell_type": "markdown",
   "metadata": {
    "colab_type": "text",
    "id": "7aXmHo2__c_S"
   },
   "source": [
    "load train data"
   ]
  },
  {
   "cell_type": "code",
   "execution_count": 25,
   "metadata": {
    "colab": {},
    "colab_type": "code",
    "id": "ffZ_ou5XCc1A"
   },
   "outputs": [
    {
     "name": "stdout",
     "output_type": "stream",
     "text": [
      "5\n"
     ]
    }
   ],
   "source": [
    "trainData,attributes,label = loadTrainData('Dataset/train.csv')\n",
    "disc = KBinsDiscretizer(n_bins=5, encode='ordinal',strategy='uniform')\n",
    "trainData['Percent_Of_Forces_Mobilized'] = pd.Series(disc.fit_transform(trainData['Percent_Of_Forces_Mobilized'].values.reshape(-1, 1)).reshape(-1))\n",
    "trainData['Active_Threats'] = pd.Series(disc.fit_transform(trainData['Active_Threats'].values.reshape(-1, 1)).reshape(-1))\n",
    "trainData['Inactive_Threats'] = pd.Series(disc.fit_transform(trainData['Inactive_Threats'].values.reshape(-1, 1)).reshape(-1))\n",
    "trainData['Citizen_Fear_Index'] = pd.Series(disc.fit_transform(trainData['Citizen_Fear_Index'].values.reshape(-1, 1)).reshape(-1))\n",
    "trainData['Closest_Threat_Distance(km)'] = pd.Series(disc.fit_transform(trainData['Closest_Threat_Distance(km)'].values.reshape(-1, 1)).reshape(-1))\n",
    "trainData['Troops_Mobilized(thousands)'] = pd.Series(disc.fit_transform(trainData['Troops_Mobilized(thousands)'].values.reshape(-1, 1)).reshape(-1))\n",
    "\n",
    "print(trainData['Troops_Mobilized(thousands)'].nunique())"
   ]
  },
  {
   "cell_type": "markdown",
   "metadata": {
    "colab_type": "text",
    "id": "dC2wJ3W8_xGX"
   },
   "source": [
    "Create Training and Test Sets and Apply Scaling"
   ]
  },
  {
   "cell_type": "code",
   "execution_count": 26,
   "metadata": {
    "colab": {},
    "colab_type": "code",
    "id": "YlQ9L_bEP5oi"
   },
   "outputs": [
    {
     "name": "stdout",
     "output_type": "stream",
     "text": [
      "   Allied_Nations  Diplomatic_Meetings_Set  Percent_Of_Forces_Mobilized  \\\n",
      "0              16                        1                          3.0   \n",
      "1               8                        1                          0.0   \n",
      "2               9                        1                          2.0   \n",
      "3               7                        0                          1.0   \n",
      "4               8                        1                          0.0   \n",
      "\n",
      "   Hostile_Nations  Active_Threats  Inactive_Threats  Citizen_Fear_Index  \\\n",
      "0                3             0.0               0.0                 3.0   \n",
      "1                2             2.0               0.0                 2.0   \n",
      "2                3             2.0               1.0                 2.0   \n",
      "3                2             2.0               0.0                 2.0   \n",
      "4                5             0.0               0.0                 2.0   \n",
      "\n",
      "   Closest_Threat_Distance(km)  Aircraft_Carriers_Responding  \\\n",
      "0                          1.0                             1   \n",
      "1                          2.0                             0   \n",
      "2                          1.0                             1   \n",
      "3                          2.0                             1   \n",
      "4                          2.0                             0   \n",
      "\n",
      "   Troops_Mobilized(thousands)  \n",
      "0                          1.0  \n",
      "1                          1.0  \n",
      "2                          0.0  \n",
      "3                          1.0  \n",
      "4                          2.0  \n",
      "0    3\n",
      "1    4\n",
      "2    3\n",
      "3    3\n",
      "4    2\n",
      "Name: DEFCON_Level, dtype: int64\n"
     ]
    }
   ],
   "source": [
    "from sklearn.model_selection import train_test_split\n",
    "trainLabel = trainData[label]\n",
    "trainData = trainData.drop([label], axis=1)\n",
    "\n",
    "print(trainData.head())\n",
    "print(trainLabel.head())\n",
    "# X_train, X_test, y_train, y_test = train_test_split(trainData, trainLabel, random_state=0)\n",
    "# from sklearn.preprocessing import MinMaxScaler\n",
    "# scaler = MinMaxScaler()\n",
    "# X_train = scaler.fit_transform(X_train)\n",
    "# X_test = scaler.transform(X_test)\n",
    "# print(X_train.shape)\n",
    "# print(X_test.shape)\n"
   ]
  },
  {
   "cell_type": "markdown",
   "metadata": {
    "colab_type": "text",
    "id": "auzQOCqq_z5o"
   },
   "source": [
    "Logistic Regression\n"
   ]
  },
  {
   "cell_type": "code",
   "execution_count": 27,
   "metadata": {
    "colab": {},
    "colab_type": "code",
    "id": "NmAEi6Zp_2qP"
   },
   "outputs": [
    {
     "name": "stderr",
     "output_type": "stream",
     "text": [
      "C:\\Users\\test\\Anaconda3\\lib\\site-packages\\sklearn\\linear_model\\logistic.py:433: FutureWarning: Default solver will be changed to 'lbfgs' in 0.22. Specify a solver to silence this warning.\n",
      "  FutureWarning)\n",
      "C:\\Users\\test\\Anaconda3\\lib\\site-packages\\sklearn\\linear_model\\logistic.py:460: FutureWarning: Default multi_class will be changed to 'auto' in 0.22. Specify the multi_class option to silence this warning.\n",
      "  \"this warning.\", FutureWarning)\n"
     ]
    },
    {
     "name": "stdout",
     "output_type": "stream",
     "text": [
      "Accuracy of Logistic regression classifier on training set: 0.55\n"
     ]
    }
   ],
   "source": [
    "from sklearn.linear_model import LogisticRegression\n",
    "logreg = LogisticRegression()\n",
    "logreg.fit(trainData, trainLabel)\n",
    "print('Accuracy of Logistic regression classifier on training set: {:.2f}'\n",
    "     .format(logreg.score(trainData, trainLabel)))\n",
    "# print('Accuracy of Logistic regression classifier on test set: {:.2f}'\n",
    "#      .format(logreg.score(X_test, y_test)))"
   ]
  },
  {
   "cell_type": "markdown",
   "metadata": {
    "colab_type": "text",
    "id": "La6JWtPIuVl2"
   },
   "source": [
    "Decision tree"
   ]
  },
  {
   "cell_type": "code",
   "execution_count": 28,
   "metadata": {
    "colab": {},
    "colab_type": "code",
    "id": "euGFX5KWuX4W"
   },
   "outputs": [
    {
     "name": "stdout",
     "output_type": "stream",
     "text": [
      "Accuracy of Decision Tree classifier on training set: 0.72\n"
     ]
    }
   ],
   "source": [
    "from sklearn.tree import DecisionTreeClassifier\n",
    "clf = DecisionTreeClassifier().fit(trainData, trainLabel)\n",
    "print('Accuracy of Decision Tree classifier on training set: {:.2f}'\n",
    "     .format(clf.score(trainData, trainLabel)))\n",
    "# print('Accuracy of Decision Tree classifier on test set: {:.2f}'\n",
    "#      .format(clf.score(X_test, y_test)))"
   ]
  },
  {
   "cell_type": "markdown",
   "metadata": {
    "colab_type": "text",
    "id": "lFD_QSTWxX_v"
   },
   "source": [
    "K-nearest neighbour"
   ]
  },
  {
   "cell_type": "code",
   "execution_count": 29,
   "metadata": {
    "colab": {},
    "colab_type": "code",
    "id": "wFFVDzF_xafG"
   },
   "outputs": [
    {
     "name": "stdout",
     "output_type": "stream",
     "text": [
      "Accuracy of K-NN classifier on training set: 0.61\n"
     ]
    }
   ],
   "source": [
    "from sklearn.neighbors import KNeighborsClassifier\n",
    "knn = KNeighborsClassifier()\n",
    "knn.fit(trainData, trainLabel)\n",
    "print('Accuracy of K-NN classifier on training set: {:.2f}'\n",
    "     .format(knn.score(trainData, trainLabel)))\n",
    "# print('Accuracy of K-NN classifier on test set: {:.2f}'\n",
    "#      .format(knn.score(X_test, y_test)))"
   ]
  },
  {
   "cell_type": "markdown",
   "metadata": {
    "colab_type": "text",
    "id": "29sWtKEfx0as"
   },
   "source": [
    "Linear Discriminant Analysis"
   ]
  },
  {
   "cell_type": "code",
   "execution_count": 30,
   "metadata": {
    "colab": {},
    "colab_type": "code",
    "id": "ItZZ-82ux1Tj"
   },
   "outputs": [
    {
     "name": "stdout",
     "output_type": "stream",
     "text": [
      "Accuracy of LDA classifier on training set: 0.55\n"
     ]
    }
   ],
   "source": [
    "from sklearn.discriminant_analysis import LinearDiscriminantAnalysis\n",
    "lda = LinearDiscriminantAnalysis()\n",
    "lda.fit(trainData, trainLabel)\n",
    "print('Accuracy of LDA classifier on training set: {:.2f}'\n",
    "     .format(lda.score(trainData, trainLabel)))\n",
    "# print('Accuracy of LDA classifier on test set: {:.2f}'\n",
    "#      .format(lda.score(X_test, y_test)))"
   ]
  },
  {
   "cell_type": "markdown",
   "metadata": {
    "colab_type": "text",
    "id": "-jbRN1VeyWmi"
   },
   "source": [
    "Gaussian Naive Bayes\n"
   ]
  },
  {
   "cell_type": "code",
   "execution_count": 31,
   "metadata": {
    "colab": {},
    "colab_type": "code",
    "id": "pvT2rDI0yXRz"
   },
   "outputs": [
    {
     "name": "stdout",
     "output_type": "stream",
     "text": [
      "Accuracy of GNB classifier on training set: 0.52\n"
     ]
    }
   ],
   "source": [
    "from sklearn.naive_bayes import GaussianNB\n",
    "gnb = GaussianNB()\n",
    "gnb.fit(trainData, trainLabel)\n",
    "print('Accuracy of GNB classifier on training set: {:.2f}'\n",
    "     .format(gnb.score(trainData, trainLabel)))\n",
    "# print('Accuracy of GNB classifier on test set: {:.2f}'\n",
    "#      .format(gnb.score(X_test, y_test)))"
   ]
  },
  {
   "cell_type": "code",
   "execution_count": 47,
   "metadata": {
    "colab": {},
    "colab_type": "code",
    "id": "DVtZ6IWdR6OT"
   },
   "outputs": [
    {
     "name": "stdout",
     "output_type": "stream",
     "text": [
      "<bound method NDFrame.describe of       Allied_Nations  Diplomatic_Meetings_Set  Percent_Of_Forces_Mobilized  \\\n",
      "0                  8                        0                         0.52   \n",
      "1                  9                        0                         0.44   \n",
      "2                  8                        0                         0.44   \n",
      "3                 10                        0                         0.39   \n",
      "4                  9                        0                         0.44   \n",
      "5                  8                        1                         0.36   \n",
      "6                  7                        0                         0.02   \n",
      "7                  8                        1                         0.05   \n",
      "8                  8                        0                         0.35   \n",
      "9                  9                        0                         0.31   \n",
      "10                 9                        0                         0.39   \n",
      "11                10                        1                         0.26   \n",
      "12                 7                        1                         0.18   \n",
      "13                 8                        0                         0.51   \n",
      "14                11                        0                         0.74   \n",
      "15                12                        0                         0.64   \n",
      "16                 7                        1                         0.01   \n",
      "17                10                        0                         0.40   \n",
      "18                 8                        0                         0.29   \n",
      "19                 5                        0                         0.00   \n",
      "20                 6                        1                         0.08   \n",
      "21                10                        1                         0.39   \n",
      "22                 9                        0                         0.53   \n",
      "23                 8                        0                         0.49   \n",
      "24                 8                        1                         0.70   \n",
      "25                 8                        1                         0.00   \n",
      "26                 8                        1                         0.00   \n",
      "27                 8                        0                         0.31   \n",
      "28                 6                        1                         0.15   \n",
      "29                 8                        0                         0.31   \n",
      "...              ...                      ...                          ...   \n",
      "2470               7                        0                         0.43   \n",
      "2471               8                        1                         0.30   \n",
      "2472               7                        1                         0.01   \n",
      "2473              12                        0                         0.47   \n",
      "2474               9                        0                         0.52   \n",
      "2475               8                        1                         0.20   \n",
      "2476               6                        0                         0.17   \n",
      "2477               8                        0                         0.40   \n",
      "2478               7                        1                         0.03   \n",
      "2479               8                        0                         0.31   \n",
      "2480               5                        1                         0.00   \n",
      "2481               6                        0                         0.16   \n",
      "2482               9                        1                         0.18   \n",
      "2483              11                        0                         0.68   \n",
      "2484               7                        1                         0.18   \n",
      "2485               9                        1                         0.49   \n",
      "2486               8                        1                         0.14   \n",
      "2487               8                        0                         0.32   \n",
      "2488              11                        0                         0.45   \n",
      "2489               8                        1                         0.21   \n",
      "2490               7                        0                         0.18   \n",
      "2491               6                        0                         0.53   \n",
      "2492               9                        1                         0.09   \n",
      "2493               6                        0                         0.43   \n",
      "2494               7                        0                         0.24   \n",
      "2495               8                        1                         0.27   \n",
      "2496               7                        1                         0.03   \n",
      "2497              10                        1                         0.25   \n",
      "2498              10                        0                         0.42   \n",
      "2499              10                        1                         0.28   \n",
      "\n",
      "      Hostile_Nations  Active_Threats  Inactive_Threats  Citizen_Fear_Index  \\\n",
      "0                   2            19.0              52.0            0.376652   \n",
      "1                   2             6.0              12.0            0.254772   \n",
      "2                   3             7.0              18.0            0.472100   \n",
      "3                   2             3.0              13.0            0.478708   \n",
      "4                   2             6.0              14.0            0.561674   \n",
      "5                   2            24.0             122.0            0.494126   \n",
      "6                   1            28.0              38.0            0.375184   \n",
      "7                   2            13.0              32.0            0.378120   \n",
      "8                   2             7.0              20.0            0.395742   \n",
      "9                   2            19.0             133.0            0.611601   \n",
      "10                  2            21.0              60.0            0.447871   \n",
      "11                  2            16.0              56.0            0.574890   \n",
      "12                  5            52.0              70.0            0.482379   \n",
      "13                  2            17.0              43.0            0.376652   \n",
      "14                  2             6.0              19.0            0.626285   \n",
      "15                  2             3.0               9.0            0.582232   \n",
      "16                  2            40.0              38.0            0.419236   \n",
      "17                  1             6.0              16.0            0.563142   \n",
      "18                  4            28.0              90.0            0.538179   \n",
      "19                  2            15.0              28.0            0.244493   \n",
      "20                  2            16.0              33.0            0.290015   \n",
      "21                 15            31.0             134.0            1.000000   \n",
      "22                  4            13.0              27.0            0.407489   \n",
      "23                  3            41.0              80.0            0.618943   \n",
      "24                  2            13.0              47.0            0.523495   \n",
      "25                  2            33.0              35.0            0.378120   \n",
      "26                  4            23.0              61.0            0.552863   \n",
      "27                  2             4.0              28.0            0.441997   \n",
      "28                  2            22.0              40.0            0.260646   \n",
      "29                  3             8.0              24.0            0.472100   \n",
      "...               ...             ...               ...                 ...   \n",
      "2470                6            18.0              45.0            0.567548   \n",
      "2471                2             9.0              63.0            0.428047   \n",
      "2472                2            11.0              26.0            0.508811   \n",
      "2473                3            10.0              24.0            0.620411   \n",
      "2474                2             6.0              17.0            0.626285   \n",
      "2475                2            27.0             130.0            0.475771   \n",
      "2476                2            15.0              31.0            0.260646   \n",
      "2477                2            38.0             142.0            0.379589   \n",
      "2478                2            14.0              31.0            0.389868   \n",
      "2479                2            26.0              77.0            0.494126   \n",
      "2480                2             5.0              31.0            0.244493   \n",
      "2481                2            11.0              23.0            0.426579   \n",
      "2482                2            15.0              21.0            0.552863   \n",
      "2483                2             3.0              10.0            0.484581   \n",
      "2484                2            27.0             119.0            0.453744   \n",
      "2485                2             6.0              19.0            0.514684   \n",
      "2486                3            33.0              90.0            0.604258   \n",
      "2487                3            24.0             125.0            0.516153   \n",
      "2488                2            20.0              47.0            0.489721   \n",
      "2489                2             5.0              33.0            0.494126   \n",
      "2490                3            27.0              80.0            0.514684   \n",
      "2491                2            45.0             133.0            0.391336   \n",
      "2492                2            20.0              89.0            0.567548   \n",
      "2493                6            29.0             102.0            0.491924   \n",
      "2494                2            18.0              47.0            0.251836   \n",
      "2495                3             5.0              77.0            0.552863   \n",
      "2496                3             7.0              15.0            0.588106   \n",
      "2497                3            33.0             151.0            0.626285   \n",
      "2498                2             5.0              12.0            0.507342   \n",
      "2499                3            22.0              99.0            0.582232   \n",
      "\n",
      "      Closest_Threat_Distance(km)  Aircraft_Carriers_Responding  \\\n",
      "0                          319.06                             1   \n",
      "1                          351.92                             1   \n",
      "2                          349.80                             1   \n",
      "3                          343.44                             1   \n",
      "4                          346.62                             1   \n",
      "5                          333.90                             1   \n",
      "6                          355.10                             1   \n",
      "7                          351.92                             1   \n",
      "8                          359.34                             1   \n",
      "9                          356.16                             1   \n",
      "10                         322.24                             1   \n",
      "11                         341.32                             1   \n",
      "12                         381.60                             1   \n",
      "13                         327.54                             1   \n",
      "14                         345.56                             1   \n",
      "15                         327.54                             1   \n",
      "16                         374.18                             1   \n",
      "17                         354.04                             1   \n",
      "18                         346.62                             1   \n",
      "19                         378.42                             1   \n",
      "20                         376.30                             1   \n",
      "21                         356.16                             1   \n",
      "22                         355.10                             1   \n",
      "23                         350.86                             1   \n",
      "24                         344.50                             1   \n",
      "25                         361.46                             1   \n",
      "26                         336.02                             1   \n",
      "27                         364.64                             1   \n",
      "28                         364.64                             1   \n",
      "29                         350.86                             1   \n",
      "...                           ...                           ...   \n",
      "2470                       365.70                             0   \n",
      "2471                       350.86                             1   \n",
      "2472                       374.18                             1   \n",
      "2473                       315.88                             1   \n",
      "2474                       358.28                             1   \n",
      "2475                       342.38                             1   \n",
      "2476                       366.76                             1   \n",
      "2477                       340.26                             1   \n",
      "2478                       355.10                             1   \n",
      "2479                       346.62                             0   \n",
      "2480                       408.10                             1   \n",
      "2481                       372.06                             1   \n",
      "2482                       354.04                             1   \n",
      "2483                       345.56                             1   \n",
      "2484                       354.04                             1   \n",
      "2485                       333.90                             1   \n",
      "2486                       350.86                             1   \n",
      "2487                       341.32                             1   \n",
      "2488                       328.60                             1   \n",
      "2489                       355.10                             0   \n",
      "2490                       354.04                             1   \n",
      "2491                       349.80                             1   \n",
      "2492                       351.92                             1   \n",
      "2493                       351.92                             1   \n",
      "2494                       357.22                             1   \n",
      "2495                       338.14                             1   \n",
      "2496                       363.58                             1   \n",
      "2497                       334.96                             1   \n",
      "2498                       336.02                             0   \n",
      "2499                       351.92                             1   \n",
      "\n",
      "      Troops_Mobilized(thousands)     ID  \n",
      "0                        976800.0      1  \n",
      "1                       1082400.0     10  \n",
      "2                        924000.0     14  \n",
      "3                       1003200.0     17  \n",
      "4                        924000.0     21  \n",
      "5                        862400.0     40  \n",
      "6                        915200.0     45  \n",
      "7                        906400.0     50  \n",
      "8                        827200.0     52  \n",
      "9                        827200.0     85  \n",
      "10                      1047200.0     95  \n",
      "11                       932800.0    106  \n",
      "12                       871200.0    111  \n",
      "13                       950400.0    123  \n",
      "14                       932800.0    129  \n",
      "15                       871200.0    130  \n",
      "16                      1012000.0    132  \n",
      "17                       915200.0    137  \n",
      "18                       880000.0    159  \n",
      "19                      1152800.0    161  \n",
      "20                       985600.0    162  \n",
      "21                       924000.0    166  \n",
      "22                      1064800.0    170  \n",
      "23                       924000.0    173  \n",
      "24                       765600.0    177  \n",
      "25                       950400.0    180  \n",
      "26                       836000.0    182  \n",
      "27                       827200.0    183  \n",
      "28                      1108800.0    184  \n",
      "29                      1064800.0    188  \n",
      "...                           ...    ...  \n",
      "2470                     836000.0  12366  \n",
      "2471                     818400.0  12367  \n",
      "2472                     844800.0  12378  \n",
      "2473                     994400.0  12389  \n",
      "2474                     932800.0  12390  \n",
      "2475                     836000.0  12402  \n",
      "2476                    1100000.0  12406  \n",
      "2477                    1091200.0  12412  \n",
      "2478                     906400.0  12413  \n",
      "2479                     836000.0  12415  \n",
      "2480                    1047200.0  12420  \n",
      "2481                     915200.0  12423  \n",
      "2482                     792000.0  12432  \n",
      "2483                    1029600.0  12433  \n",
      "2484                     862400.0  12435  \n",
      "2485                     827200.0  12436  \n",
      "2486                     853600.0  12437  \n",
      "2487                     836000.0  12438  \n",
      "2488                     959200.0  12442  \n",
      "2489                     836000.0  12444  \n",
      "2490                     836000.0  12446  \n",
      "2491                     950400.0  12461  \n",
      "2492                     853600.0  12473  \n",
      "2493                     774400.0  12474  \n",
      "2494                    1135200.0  12476  \n",
      "2495                     827200.0  12484  \n",
      "2496                     827200.0  12487  \n",
      "2497                     809600.0  12488  \n",
      "2498                     950400.0  12491  \n",
      "2499                     827200.0  12493  \n",
      "\n",
      "[2500 rows x 11 columns]>\n",
      "   Allied_Nations  Diplomatic_Meetings_Set  Percent_Of_Forces_Mobilized  \\\n",
      "0               8                        0                          2.0   \n",
      "1               9                        0                          2.0   \n",
      "2               8                        0                          2.0   \n",
      "3              10                        0                          1.0   \n",
      "4               9                        0                          2.0   \n",
      "\n",
      "   Hostile_Nations  Active_Threats  Inactive_Threats  Citizen_Fear_Index  \\\n",
      "0                2             1.0               0.0                 1.0   \n",
      "1                2             0.0               0.0                 1.0   \n",
      "2                3             0.0               0.0                 2.0   \n",
      "3                2             0.0               0.0                 2.0   \n",
      "4                2             0.0               0.0                 2.0   \n",
      "\n",
      "   Closest_Threat_Distance(km)  Aircraft_Carriers_Responding  \\\n",
      "0                          1.0                             1   \n",
      "1                          2.0                             1   \n",
      "2                          2.0                             1   \n",
      "3                          1.0                             1   \n",
      "4                          2.0                             1   \n",
      "\n",
      "   Troops_Mobilized(thousands)  ID  \n",
      "0                          2.0   1  \n",
      "1                          3.0  10  \n",
      "2                          1.0  14  \n",
      "3                          2.0  17  \n",
      "4                          1.0  21  \n"
     ]
    },
    {
     "name": "stdout",
     "output_type": "stream",
     "text": [
      "   ID  DEFCON_Level\n",
      "0   1             3\n",
      "1  10             4\n",
      "2  14             2\n",
      "3  17             3\n",
      "4  21             2\n"
     ]
    }
   ],
   "source": [
    "\n",
    "trainData = loadTestData('Dataset/test.csv')\n",
    "print(trainData.describe)\n",
    "\n",
    "disc = KBinsDiscretizer(n_bins=5, encode='ordinal',strategy='uniform')\n",
    "trainData['Percent_Of_Forces_Mobilized'] = pd.Series(disc.fit_transform(trainData['Percent_Of_Forces_Mobilized'].values.reshape(-1, 1)).reshape(-1))\n",
    "trainData['Active_Threats'] = pd.Series(disc.fit_transform(trainData['Active_Threats'].values.reshape(-1, 1)).reshape(-1))\n",
    "trainData['Inactive_Threats'] = pd.Series(disc.fit_transform(trainData['Inactive_Threats'].values.reshape(-1, 1)).reshape(-1))\n",
    "trainData['Citizen_Fear_Index'] = pd.Series(disc.fit_transform(trainData['Citizen_Fear_Index'].values.reshape(-1, 1)).reshape(-1))\n",
    "trainData['Closest_Threat_Distance(km)'] = pd.Series(disc.fit_transform(trainData['Closest_Threat_Distance(km)'].values.reshape(-1, 1)).reshape(-1))\n",
    "trainData['Troops_Mobilized(thousands)'] = pd.Series(disc.fit_transform(trainData['Troops_Mobilized(thousands)'].values.reshape(-1, 1)).reshape(-1))\n",
    "\n",
    "\n",
    "print(trainData.head())\n",
    "my_submission = pd.DataFrame({'ID': trainData.index})\n",
    "my_submission['ID'] = trainData['ID']\n",
    "trainData = trainData.drop(['ID'], axis=1)\n",
    "pred = knn.predict(trainData)\n",
    "\n",
    "my_submission['DEFCON_Level'] = pred\n",
    "\n",
    "my_submission['DEFCON_Level'] = my_submission['DEFCON_Level'].astype('int64')\n",
    "print(my_submission.head())\n",
    "my_submission.to_csv('submission.csv', index=False)"
   ]
  }
 ],
 "metadata": {
  "colab": {
   "collapsed_sections": [],
   "name": "Titanic Machine Learning from Disaster.ipynb",
   "provenance": []
  },
  "kernelspec": {
   "display_name": "Python 3",
   "language": "python",
   "name": "python3"
  },
  "language_info": {
   "codemirror_mode": {
    "name": "ipython",
    "version": 3
   },
   "file_extension": ".py",
   "mimetype": "text/x-python",
   "name": "python",
   "nbconvert_exporter": "python",
   "pygments_lexer": "ipython3",
   "version": "3.7.3"
  }
 },
 "nbformat": 4,
 "nbformat_minor": 1
}
