{
  "nbformat": 4,
  "nbformat_minor": 0,
  "metadata": {
    "colab": {
      "name": "Titanic Machine Learning from Disaster.ipynb",
      "provenance": [],
      "collapsed_sections": []
    },
    "kernelspec": {
      "name": "python3",
      "display_name": "Python 3"
    }
  },
  "cells": [
    {
      "cell_type": "markdown",
      "metadata": {
        "id": "lmGx0amfBRES",
        "colab_type": "text"
      },
      "source": [
        "The sinking of the Titanic is one of the most infamous shipwrecks in history.\n",
        "\n",
        "On April 15, 1912, during her maiden voyage, the widely considered “unsinkable” RMS Titanic sank after colliding with an iceberg. Unfortunately, there weren’t enough lifeboats for everyone onboard, resulting in the death of 1502 out of 2224 passengers and crew.\n",
        "\n",
        "While there was some element of luck involved in surviving, it seems some groups of people were more likely to survive than others.\n",
        "\n",
        "In this challenge, we ask you to build a predictive model that answers the question: “what sorts of people were more likely to survive?” using passenger data (ie name, age, gender, socio-economic class, etc)."
      ]
    },
    {
      "cell_type": "code",
      "metadata": {
        "id": "_NZ4tGBCA1tm",
        "colab_type": "code",
        "colab": {}
      },
      "source": [
        "import numpy as np\n",
        "import pandas as pd\n",
        "from sklearn.impute import SimpleImputer\n",
        "from sklearn.preprocessing import Binarizer\n",
        "from sklearn.preprocessing import OrdinalEncoder\n",
        "import time\n",
        "import math\n",
        "from sklearn.preprocessing import KBinsDiscretizer\n",
        "import os"
      ],
      "execution_count": 0,
      "outputs": []
    },
    {
      "cell_type": "markdown",
      "metadata": {
        "id": "CzcNfTQgCNaD",
        "colab_type": "text"
      },
      "source": [
        "Processing train data"
      ]
    },
    {
      "cell_type": "code",
      "metadata": {
        "id": "SwhfWDo2CRxw",
        "colab_type": "code",
        "colab": {}
      },
      "source": [
        "def loadTrainData(filename):\n",
        "    dataframe = pd.read_csv(filename, delimiter=\",\")\n",
        "    label = 'Survived'\n",
        "    dataframe = dataframe.drop(['PassengerId'], axis=1)\n",
        "    dataframe = dataframe.drop(['Name'], axis=1)\n",
        "    dataframe = dataframe.drop(['Cabin'], axis=1)\n",
        "    dataframe = dataframe.drop(['Ticket'], axis=1)\n",
        "    dataframe = dataframe.drop(['Parch'], axis=1)\n",
        "    dataframe = dataframe.drop(['SibSp'], axis=1)\n",
        "    print('Before removing data with missing label :',dataframe.shape)\n",
        "    dataframe = dataframe.dropna(axis=0, subset=[label])\n",
        "    dataframe = dataframe.reset_index(drop=True)\n",
        "    print('Before removing data with missing label :',dataframe.shape)\n",
        "    non_categorical =['Age','Fare']\n",
        "    for column in dataframe:\n",
        "        dataframe[column] = dataframe[column].replace(r'^\\s*$', np.nan, regex=True)\n",
        "        #print(dataframe[column].isnull().sum())\n",
        "        if dataframe[column].isnull().sum():\n",
        "            #print dataframe[column].values\n",
        "\n",
        "            if column not in non_categorical:\n",
        "                #use most_frequent data for missing data for non_catagorical data\n",
        "                imp = SimpleImputer(strategy=\"most_frequent\")\n",
        "                dataframe[column] = imp.fit_transform(dataframe[column].values.reshape(-1, 1)).reshape(-1)\n",
        "            else:\n",
        "                #use mean for missing data for catagorical data\n",
        "                imp = SimpleImputer(missing_values=np.nan, strategy='mean')\n",
        "                dataframe[column] = imp.fit_transform(dataframe[column].values.reshape(-1, 1)).reshape(-1)\n",
        "            print (column,' has missing values')\n",
        "\n",
        "\n",
        "    attributes = list(dataframe.columns.values)\n",
        "    attributes.remove(label)\n",
        "\n",
        "    return dataframe,attributes,label\n"
      ],
      "execution_count": 0,
      "outputs": []
    },
    {
      "cell_type": "markdown",
      "metadata": {
        "id": "s9pQHKtqwv0M",
        "colab_type": "text"
      },
      "source": [
        "processing test data"
      ]
    },
    {
      "cell_type": "code",
      "metadata": {
        "id": "yU-5_-SswyJr",
        "colab_type": "code",
        "colab": {}
      },
      "source": [
        "def loadTestData(filename):\n",
        "    dataframe = pd.read_csv(filename, delimiter=\",\")\n",
        "    dataframe = dataframe.drop(['Name'], axis=1)\n",
        "    dataframe = dataframe.drop(['Cabin'], axis=1)\n",
        "    dataframe = dataframe.drop(['Ticket'], axis=1)\n",
        "    dataframe = dataframe.drop(['Parch'], axis=1)\n",
        "    dataframe = dataframe.drop(['SibSp'], axis=1)\n",
        "    non_categorical =['Age','Fare']\n",
        "    for column in dataframe:\n",
        "        dataframe[column] = dataframe[column].replace(r'^\\s*$', np.nan, regex=True)\n",
        "        #print(dataframe[column].isnull().sum())\n",
        "        if dataframe[column].isnull().sum():\n",
        "            #print dataframe[column].values\n",
        "\n",
        "            if column not in non_categorical:\n",
        "                #use most_frequent data for missing data for non_catagorical data\n",
        "                imp = SimpleImputer(strategy=\"most_frequent\")\n",
        "                dataframe[column] = imp.fit_transform(dataframe[column].values.reshape(-1, 1)).reshape(-1)\n",
        "            else:\n",
        "                #use mean for missing data for catagorical data\n",
        "                imp = SimpleImputer(missing_values=np.nan, strategy='mean')\n",
        "                dataframe[column] = imp.fit_transform(dataframe[column].values.reshape(-1, 1)).reshape(-1)\n",
        "            print (column,' has missing values') \n",
        "            #print(dataframe[column].head())\n",
        "    #dataframe.to_csv('telco-customer-churn/fixed.csv', sep=',')\n",
        "    return dataframe\n"
      ],
      "execution_count": 0,
      "outputs": []
    },
    {
      "cell_type": "markdown",
      "metadata": {
        "id": "7aXmHo2__c_S",
        "colab_type": "text"
      },
      "source": [
        "load train data"
      ]
    },
    {
      "cell_type": "code",
      "metadata": {
        "id": "ffZ_ou5XCc1A",
        "colab_type": "code",
        "colab": {}
      },
      "source": [
        "trainData,attributes,label = loadTrainData('/content/train.csv')\n",
        "print(trainData.describe)\n",
        "trainData.loc[trainData[\"Sex\"] == \"male\",\"Sex\"] = 0\n",
        "trainData.loc[trainData[\"Sex\"] == \"female\",\"Sex\"] = 1\n",
        "\n",
        "trainData['Embarked'] = trainData['Embarked'].map( {'S': 0, 'Q': 1, 'C': 2} ).astype(int)\n",
        "\n",
        "trainData.loc[trainData[\"Age\"] < 15,\"Age\"] = 0\n",
        "trainData.loc[(trainData[\"Age\"] >= 15) & (trainData[\"Age\"] < 30),\"Age\"] = 1\n",
        "trainData.loc[(trainData[\"Age\"] >= 30) & (trainData[\"Age\"] < 45),\"Age\"] = 2\n",
        "trainData.loc[(trainData[\"Age\"] >= 45) & (trainData[\"Age\"] < 60),\"Age\"] = 3\n",
        "trainData.loc[(trainData[\"Age\"] >= 60), 'Age'] = 4\n",
        "\n",
        "trainData.loc[trainData[\"Fare\"] < 10,\"Fare\"] = 0\n",
        "trainData.loc[(trainData[\"Fare\"] >= 10) & (trainData[\"Fare\"] < 25),\"Fare\"] = 1\n",
        "trainData.loc[(trainData[\"Fare\"] >= 25) & (trainData[\"Fare\"] < 50),\"Fare\"] = 2\n",
        "trainData.loc[(trainData[\"Fare\"] >= 50) & (trainData[\"Fare\"] < 100),\"Fare\"] = 3\n",
        "trainData.loc[(trainData[\"Fare\"] >= 100), 'Fare'] = 4\n",
        "\n",
        "print(trainData.head())"
      ],
      "execution_count": 0,
      "outputs": []
    },
    {
      "cell_type": "markdown",
      "metadata": {
        "id": "dC2wJ3W8_xGX",
        "colab_type": "text"
      },
      "source": [
        "Create Training and Test Sets and Apply Scaling"
      ]
    },
    {
      "cell_type": "code",
      "metadata": {
        "id": "YlQ9L_bEP5oi",
        "colab_type": "code",
        "colab": {}
      },
      "source": [
        "from sklearn.model_selection import train_test_split\n",
        "trainLabel = trainData[label]\n",
        "trainData = trainData.drop([label], axis=1)\n",
        "\n",
        "print(trainData.head())\n",
        "print(trainLabel.head())\n",
        "# X_train, X_test, y_train, y_test = train_test_split(trainData, trainLabel, random_state=0)\n",
        "# from sklearn.preprocessing import MinMaxScaler\n",
        "# scaler = MinMaxScaler()\n",
        "# X_train = scaler.fit_transform(X_train)\n",
        "# X_test = scaler.transform(X_test)\n",
        "# print(X_train.shape)\n",
        "# print(X_test.shape)\n"
      ],
      "execution_count": 0,
      "outputs": []
    },
    {
      "cell_type": "markdown",
      "metadata": {
        "id": "auzQOCqq_z5o",
        "colab_type": "text"
      },
      "source": [
        "Logistic Regression\n"
      ]
    },
    {
      "cell_type": "code",
      "metadata": {
        "id": "NmAEi6Zp_2qP",
        "colab_type": "code",
        "colab": {}
      },
      "source": [
        "from sklearn.linear_model import LogisticRegression\n",
        "logreg = LogisticRegression()\n",
        "logreg.fit(trainData, trainLabel)\n",
        "print('Accuracy of Logistic regression classifier on training set: {:.2f}'\n",
        "     .format(logreg.score(trainData, trainLabel)))\n",
        "# print('Accuracy of Logistic regression classifier on test set: {:.2f}'\n",
        "#      .format(logreg.score(X_test, y_test)))"
      ],
      "execution_count": 0,
      "outputs": []
    },
    {
      "cell_type": "markdown",
      "metadata": {
        "id": "La6JWtPIuVl2",
        "colab_type": "text"
      },
      "source": [
        "Decision tree"
      ]
    },
    {
      "cell_type": "code",
      "metadata": {
        "id": "euGFX5KWuX4W",
        "colab_type": "code",
        "colab": {}
      },
      "source": [
        "from sklearn.tree import DecisionTreeClassifier\n",
        "clf = DecisionTreeClassifier().fit(trainData, trainLabel)\n",
        "print('Accuracy of Decision Tree classifier on training set: {:.2f}'\n",
        "     .format(clf.score(trainData, trainLabel)))\n",
        "# print('Accuracy of Decision Tree classifier on test set: {:.2f}'\n",
        "#      .format(clf.score(X_test, y_test)))"
      ],
      "execution_count": 0,
      "outputs": []
    },
    {
      "cell_type": "markdown",
      "metadata": {
        "id": "lFD_QSTWxX_v",
        "colab_type": "text"
      },
      "source": [
        "K-nearest neighbour"
      ]
    },
    {
      "cell_type": "code",
      "metadata": {
        "id": "wFFVDzF_xafG",
        "colab_type": "code",
        "colab": {}
      },
      "source": [
        "from sklearn.neighbors import KNeighborsClassifier\n",
        "knn = KNeighborsClassifier()\n",
        "knn.fit(trainData, trainLabel)\n",
        "print('Accuracy of K-NN classifier on training set: {:.2f}'\n",
        "     .format(knn.score(trainData, trainLabel)))\n",
        "# print('Accuracy of K-NN classifier on test set: {:.2f}'\n",
        "#      .format(knn.score(X_test, y_test)))"
      ],
      "execution_count": 0,
      "outputs": []
    },
    {
      "cell_type": "markdown",
      "metadata": {
        "id": "29sWtKEfx0as",
        "colab_type": "text"
      },
      "source": [
        "Linear Discriminant Analysis"
      ]
    },
    {
      "cell_type": "code",
      "metadata": {
        "id": "ItZZ-82ux1Tj",
        "colab_type": "code",
        "colab": {}
      },
      "source": [
        "from sklearn.discriminant_analysis import LinearDiscriminantAnalysis\n",
        "lda = LinearDiscriminantAnalysis()\n",
        "lda.fit(trainData, trainLabel)\n",
        "print('Accuracy of LDA classifier on training set: {:.2f}'\n",
        "     .format(lda.score(trainData, trainLabel)))\n",
        "# print('Accuracy of LDA classifier on test set: {:.2f}'\n",
        "#      .format(lda.score(X_test, y_test)))"
      ],
      "execution_count": 0,
      "outputs": []
    },
    {
      "cell_type": "markdown",
      "metadata": {
        "id": "-jbRN1VeyWmi",
        "colab_type": "text"
      },
      "source": [
        "Gaussian Naive Bayes\n"
      ]
    },
    {
      "cell_type": "code",
      "metadata": {
        "id": "pvT2rDI0yXRz",
        "colab_type": "code",
        "colab": {}
      },
      "source": [
        "from sklearn.naive_bayes import GaussianNB\n",
        "gnb = GaussianNB()\n",
        "gnb.fit(trainData, trainLabel)\n",
        "print('Accuracy of GNB classifier on training set: {:.2f}'\n",
        "     .format(gnb.score(trainData, trainLabel)))\n",
        "# print('Accuracy of GNB classifier on test set: {:.2f}'\n",
        "#      .format(gnb.score(X_test, y_test)))"
      ],
      "execution_count": 0,
      "outputs": []
    },
    {
      "cell_type": "code",
      "metadata": {
        "id": "DVtZ6IWdR6OT",
        "colab_type": "code",
        "colab": {}
      },
      "source": [
        "\n",
        "df = loadTestData('/content/test.csv')\n",
        "print(df.describe)\n",
        "\n",
        "#fillup values\n",
        "df['Age'] = df.Age.fillna(meanAge)\n",
        "df['Embarked'] = df.Embarked.fillna('S')\n",
        "df['Fare'] = df.Fare.fillna(0.0)\n",
        "\n",
        "#cast values\n",
        "df['Age'] = df['Age'].astype('int64')\n",
        "\n",
        "#map values\n",
        "df.loc[df[\"Sex\"] == \"male\",\"Sex\"] = 0\n",
        "df.loc[df[\"Sex\"] == \"female\",\"Sex\"] = 1\n",
        "\n",
        "df.loc[df[\"Age\"] < 15,\"Age\"] = 0\n",
        "df.loc[(df[\"Age\"] >= 15) & (df[\"Age\"] < 30),\"Age\"] = 1\n",
        "df.loc[(df[\"Age\"] >= 30) & (df[\"Age\"] < 45),\"Age\"] = 2\n",
        "df.loc[(df[\"Age\"] >= 45) & (df[\"Age\"] < 60),\"Age\"] = 3\n",
        "df.loc[(df[\"Age\"] >= 60), 'Age'] = 4\n",
        "\n",
        "df.loc[df[\"Fare\"] < 10,\"Fare\"] = 0\n",
        "df.loc[(df[\"Fare\"] >= 10) & (df[\"Fare\"] < 25),\"Fare\"] = 1\n",
        "df.loc[(df[\"Fare\"] >= 25) & (df[\"Fare\"] < 50),\"Fare\"] = 2\n",
        "df.loc[(df[\"Fare\"] >= 50) & (df[\"Fare\"] < 100),\"Fare\"] = 3\n",
        "df.loc[(df[\"Fare\"] >= 100), 'Fare'] = 4\n",
        "\n",
        "df['Embarked'] = df['Embarked'].map( {'S': 0, 'Q': 1, 'C': 2} ).astype(int)\n",
        "\n",
        "print(df.head())\n",
        "my_submission = pd.DataFrame({'PassengerId': df.index})\n",
        "my_submission['PassengerId'] = df['PassengerId']\n",
        "df = df.drop(['PassengerId'], axis=1)\n",
        "pred = gnb.predict(df)\n",
        "\n",
        "my_submission['Survived'] = pred\n",
        "\n",
        "my_submission['Survived'] = my_submission['Survived'].astype('int64')\n",
        "print(my_submission.head())\n",
        "my_submission.to_csv('submission.csv', index=False)"
      ],
      "execution_count": 0,
      "outputs": []
    }
  ]
}